{
 "cells": [
  {
   "cell_type": "markdown",
   "id": "531d2290",
   "metadata": {},
   "source": [
    "### Extracting phone number"
   ]
  },
  {
   "cell_type": "code",
   "execution_count": 258,
   "id": "c4aecb35",
   "metadata": {},
   "outputs": [],
   "source": [
    "import re"
   ]
  },
  {
   "cell_type": "code",
   "execution_count": 259,
   "id": "190e5720",
   "metadata": {},
   "outputs": [],
   "source": [
    "chat1 = 'Abhishek: you ask lot of questions   1235678912, abhi@xyz.com 1234567890'\n",
    "chat2 = 'Abhishek: here it is: (123)-567-8912, abhi@xyz.com'\n",
    "chat3 = 'Abhishek: yes, phone: 1235678912 email: abhi@xyz.com'\n"
   ]
  },
  {
   "cell_type": "code",
   "execution_count": 260,
   "id": "fe11e1ff",
   "metadata": {},
   "outputs": [
    {
     "data": {
      "text/plain": [
       "['1235678912', '1234567890']"
      ]
     },
     "execution_count": 260,
     "metadata": {},
     "output_type": "execute_result"
    }
   ],
   "source": [
    "pattern = '\\d{10}'\n",
    "matches=re.findall(pattern,chat1)\n",
    "matches"
   ]
  },
  {
   "cell_type": "code",
   "execution_count": 261,
   "id": "a8f4a3be",
   "metadata": {},
   "outputs": [
    {
     "data": {
      "text/plain": [
       "['(123)-567-8912']"
      ]
     },
     "execution_count": 261,
     "metadata": {},
     "output_type": "execute_result"
    }
   ],
   "source": [
    "pttern = '\\d{10}|\\(\\d{3}\\)-\\d{3}-\\d{4}'\n",
    "re.findall(pttern,chat2)"
   ]
  },
  {
   "cell_type": "code",
   "execution_count": 262,
   "id": "3b8b77d6",
   "metadata": {},
   "outputs": [
    {
     "data": {
      "text/plain": [
       "['1235678912', '1234567890']"
      ]
     },
     "execution_count": 262,
     "metadata": {},
     "output_type": "execute_result"
    }
   ],
   "source": [
    "pttern = '\\d{10}|\\(\\d{3}\\)-\\d{3}-\\d{4}'\n",
    "re.findall(pttern,chat1)"
   ]
  },
  {
   "cell_type": "code",
   "execution_count": 263,
   "id": "d4fc6d4c",
   "metadata": {},
   "outputs": [
    {
     "data": {
      "text/plain": [
       "['1235678912']"
      ]
     },
     "execution_count": 263,
     "metadata": {},
     "output_type": "execute_result"
    }
   ],
   "source": [
    "pttern = '\\d{10}|\\(\\d{3}\\)-\\d{3}-\\d{4}'\n",
    "re.findall(pttern,chat3)"
   ]
  },
  {
   "cell_type": "markdown",
   "id": "81aaea90",
   "metadata": {},
   "source": [
    "### Extracting email"
   ]
  },
  {
   "cell_type": "code",
   "execution_count": 264,
   "id": "49542c0d",
   "metadata": {},
   "outputs": [
    {
     "data": {
      "text/plain": [
       "['abhi@xyz.com']"
      ]
     },
     "execution_count": 264,
     "metadata": {},
     "output_type": "execute_result"
    }
   ],
   "source": [
    "pattern ='[a-z0-9A-Z_]*@[a-z0-9A-Z_]*\\.[a-z]*'\n",
    "re.findall(pattern,chat1)"
   ]
  },
  {
   "cell_type": "code",
   "execution_count": 265,
   "id": "72484e10",
   "metadata": {},
   "outputs": [
    {
     "data": {
      "text/plain": [
       "['abhi@xyz.com']"
      ]
     },
     "execution_count": 265,
     "metadata": {},
     "output_type": "execute_result"
    }
   ],
   "source": [
    "pattern ='[a-z0-9A-Z_]*@[a-z0-9A-Z_]*\\.[a-z]*'\n",
    "re.findall(pattern,chat2)"
   ]
  },
  {
   "cell_type": "code",
   "execution_count": 266,
   "id": "662ee556",
   "metadata": {},
   "outputs": [
    {
     "data": {
      "text/plain": [
       "['abhi@xyz.com']"
      ]
     },
     "execution_count": 266,
     "metadata": {},
     "output_type": "execute_result"
    }
   ],
   "source": [
    "pattern ='[a-z0-9A-Z_]*@[a-z0-9A-Z_]*\\.[a-z]*'\n",
    "re.findall(pattern,chat3)"
   ]
  },
  {
   "cell_type": "code",
   "execution_count": 267,
   "id": "13467f5f",
   "metadata": {},
   "outputs": [
    {
     "data": {
      "text/plain": [
       "(['abhi@xyz.com'], ['abhi@xyz.com'], ['abhi@xyz.com'])"
      ]
     },
     "execution_count": 267,
     "metadata": {},
     "output_type": "execute_result"
    }
   ],
   "source": [
    "pattern ='[a-z0-9A-Z_]*@[a-z0-9A-Z_]*\\.[a-z]*'\n",
    "email_1=re.findall(pattern,chat1)\n",
    "email_2=re.findall(pattern,chat2)\n",
    "email_3=re.findall(pattern,chat3)\n",
    "email_1,email_2,email_3"
   ]
  },
  {
   "cell_type": "markdown",
   "id": "34cd6225",
   "metadata": {},
   "source": [
    "### Extracting Order Number"
   ]
  },
  {
   "cell_type": "code",
   "execution_count": 268,
   "id": "dfeeaef3",
   "metadata": {},
   "outputs": [],
   "source": [
    "chat1='Abhishek: Hello, I am having an issue with my order # 412889912'\n",
    "chat2='Abhishek: I have a problem with my order number 412889912'\n",
    "chat3='Abhishek: My order 412889912 is having an issue, I was charged 300$ when online it says 280$'\n"
   ]
  },
  {
   "cell_type": "code",
   "execution_count": 269,
   "id": "4941f065",
   "metadata": {},
   "outputs": [
    {
     "data": {
      "text/plain": [
       "['412889912']"
      ]
     },
     "execution_count": 269,
     "metadata": {},
     "output_type": "execute_result"
    }
   ],
   "source": [
    "pattern = 'order[^\\d]*(\\d*)'\n",
    "order_no = re.findall(pattern,chat1)\n",
    "order_no"
   ]
  },
  {
   "cell_type": "markdown",
   "id": "ee435805",
   "metadata": {},
   "source": [
    "### Information Extraction"
   ]
  },
  {
   "cell_type": "code",
   "execution_count": 270,
   "id": "2f49b6e8",
   "metadata": {},
   "outputs": [],
   "source": [
    "text='''\n",
    "Born\tElon Reeve Musk\n",
    "June 28, 1971 (age 50)\n",
    "Pretoria, Transvaal, South Africa\n",
    "Citizenship\t\n",
    "South Africa (1971–present)\n",
    "Canada (1971–present)\n",
    "United States (2002–present)\n",
    "Education\tUniversity of Pennsylvania (BS, BA)\n",
    "Title\t\n",
    "Founder, CEO and Chief Engineer of SpaceX\n",
    "CEO and product architect of Tesla, Inc.\n",
    "Founder of The Boring Company and X.com (now part of PayPal)\n",
    "Co-founder of Neuralink, OpenAI, and Zip2\n",
    "Spouse(s)\t\n",
    "Justine Wilson\n",
    "​\n",
    "​(m. 2000; div. 2008)​\n",
    "Talulah Riley\n",
    "​\n",
    "​(m. 2010; div. 2012)​\n",
    "​\n",
    "​(m. 2013; div. 2016)\n",
    "'''"
   ]
  },
  {
   "cell_type": "code",
   "execution_count": 271,
   "id": "adb7eb07",
   "metadata": {},
   "outputs": [
    {
     "data": {
      "text/plain": [
       "['50']"
      ]
     },
     "execution_count": 271,
     "metadata": {},
     "output_type": "execute_result"
    }
   ],
   "source": [
    "pattern = 'age (\\d+)'\n",
    "age_=re.findall(pattern,text)\n",
    "age_"
   ]
  },
  {
   "cell_type": "code",
   "execution_count": 272,
   "id": "12a60998",
   "metadata": {},
   "outputs": [
    {
     "data": {
      "text/plain": [
       "'Elon Reeve Musk'"
      ]
     },
     "execution_count": 272,
     "metadata": {},
     "output_type": "execute_result"
    }
   ],
   "source": [
    "pattern = 'Born(.*)\\n'\n",
    "name = re.findall(pattern,text)\n",
    "name[0].strip() # strip command eliminate the blank spaces"
   ]
  },
  {
   "cell_type": "code",
   "execution_count": 273,
   "id": "6849be5c",
   "metadata": {},
   "outputs": [
    {
     "data": {
      "text/plain": [
       "['June 28, 1971 ']"
      ]
     },
     "execution_count": 273,
     "metadata": {},
     "output_type": "execute_result"
    }
   ],
   "source": [
    "pattern ='Born.*\\n(.*)\\(age'\n",
    "birth_date=re.findall(pattern,text)\n",
    "birth_date"
   ]
  },
  {
   "cell_type": "code",
   "execution_count": 274,
   "id": "9667cb61",
   "metadata": {},
   "outputs": [
    {
     "data": {
      "text/plain": [
       "['Pretoria, Transvaal, South Africa']"
      ]
     },
     "execution_count": 274,
     "metadata": {},
     "output_type": "execute_result"
    }
   ],
   "source": [
    "pattern='\\(age.*\\n(.*)'\n",
    "birth_place=re.findall(pattern,text)\n",
    "birth_place"
   ]
  },
  {
   "cell_type": "markdown",
   "id": "c8b2cf03",
   "metadata": {},
   "source": [
    "### Extracting information by defining fuction"
   ]
  },
  {
   "cell_type": "code",
   "execution_count": 275,
   "id": "e1b0871e",
   "metadata": {},
   "outputs": [],
   "source": [
    "def get_pattern_match(pattern, text):\n",
    "    matches = re.findall(pattern, text)\n",
    "    if matches:\n",
    "        return matches[0]"
   ]
  },
  {
   "cell_type": "code",
   "execution_count": 276,
   "id": "5de197ca",
   "metadata": {},
   "outputs": [
    {
     "data": {
      "text/plain": [
       "'Pretoria, Transvaal, South Africa'"
      ]
     },
     "execution_count": 276,
     "metadata": {},
     "output_type": "execute_result"
    }
   ],
   "source": [
    "get_pattern_match('\\(age.*\\n(.*)',text)"
   ]
  },
  {
   "cell_type": "code",
   "execution_count": 277,
   "id": "cefd9beb",
   "metadata": {},
   "outputs": [],
   "source": [
    "def personal_information(text):\n",
    "    full_name=get_pattern_match('Born(.*)\\n',text)\n",
    "    age=get_pattern_match('age (\\d+)',text)\n",
    "    birth_date=get_pattern_match('Born.*\\n(.*)\\(age',text)\n",
    "    birth_place=get_pattern_match('\\(age.*\\n(.*)',text)\n",
    "    \n",
    "    return{\n",
    "        'age':int(age),\n",
    "        'name':name[0].strip(),\n",
    "        'birth_date':birth_date,\n",
    "        'birth_place':birth_place,\n",
    "    }\n",
    "    "
   ]
  },
  {
   "cell_type": "code",
   "execution_count": 278,
   "id": "8fdf32e9",
   "metadata": {},
   "outputs": [
    {
     "data": {
      "text/plain": [
       "{'age': 50,\n",
       " 'name': 'Elon Reeve Musk',\n",
       " 'birth_date': 'June 28, 1971 ',\n",
       " 'birth_place': 'Pretoria, Transvaal, South Africa'}"
      ]
     },
     "execution_count": 278,
     "metadata": {},
     "output_type": "execute_result"
    }
   ],
   "source": [
    "personal_information(text)"
   ]
  },
  {
   "cell_type": "code",
   "execution_count": null,
   "id": "ff5fcda4",
   "metadata": {},
   "outputs": [],
   "source": []
  }
 ],
 "metadata": {
  "kernelspec": {
   "display_name": "Python 3 (ipykernel)",
   "language": "python",
   "name": "python3"
  },
  "language_info": {
   "codemirror_mode": {
    "name": "ipython",
    "version": 3
   },
   "file_extension": ".py",
   "mimetype": "text/x-python",
   "name": "python",
   "nbconvert_exporter": "python",
   "pygments_lexer": "ipython3",
   "version": "3.9.7"
  }
 },
 "nbformat": 4,
 "nbformat_minor": 5
}
