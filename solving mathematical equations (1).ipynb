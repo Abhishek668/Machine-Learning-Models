{
 "cells": [
  {
   "cell_type": "code",
   "execution_count": 2,
   "id": "c97ab5ef",
   "metadata": {},
   "outputs": [],
   "source": [
    "from sympy.interactive import printing\n",
    "printing.init_printing(use_latex=True)\n",
    "from sympy import *\n",
    "import sympy as sp\n",
    "import numpy as np"
   ]
  },
  {
   "cell_type": "code",
   "execution_count": 3,
   "id": "9d4bba60",
   "metadata": {},
   "outputs": [
    {
     "name": "stderr",
     "output_type": "stream",
     "text": [
      "C:\\Users\\Abhi\\anaconda3\\lib\\site-packages\\IPython\\lib\\latextools.py:126: MatplotlibDeprecationWarning: \n",
      "The to_png function was deprecated in Matplotlib 3.4 and will be removed two minor releases later. Use mathtext.math_to_image instead.\n",
      "  mt.to_png(f, s, fontsize=12, dpi=dpi, color=color)\n",
      "C:\\Users\\Abhi\\anaconda3\\lib\\site-packages\\IPython\\lib\\latextools.py:126: MatplotlibDeprecationWarning: \n",
      "The to_rgba function was deprecated in Matplotlib 3.4 and will be removed two minor releases later. Use mathtext.math_to_image instead.\n",
      "  mt.to_png(f, s, fontsize=12, dpi=dpi, color=color)\n",
      "C:\\Users\\Abhi\\anaconda3\\lib\\site-packages\\IPython\\lib\\latextools.py:126: MatplotlibDeprecationWarning: \n",
      "The to_mask function was deprecated in Matplotlib 3.4 and will be removed two minor releases later. Use mathtext.math_to_image instead.\n",
      "  mt.to_png(f, s, fontsize=12, dpi=dpi, color=color)\n",
      "C:\\Users\\Abhi\\anaconda3\\lib\\site-packages\\IPython\\lib\\latextools.py:126: MatplotlibDeprecationWarning: \n",
      "The MathtextBackendBitmap class was deprecated in Matplotlib 3.4 and will be removed two minor releases later. Use mathtext.math_to_image instead.\n",
      "  mt.to_png(f, s, fontsize=12, dpi=dpi, color=color)\n"
     ]
    },
    {
     "data": {
      "image/png": "[encoded data removed]",
      "text/latex": [
       "$\\displaystyle - 5 f{\\left(x \\right)} + \\frac{d^{2}}{d x^{2}} f{\\left(x \\right)} = 10$"
      ],
      "text/plain": [
       "            2           \n",
       "           d            \n",
       "-5⋅f(x) + ───(f(x)) = 10\n",
       "            2           \n",
       "          dx            "
      ]
     },
     "execution_count": 3,
     "metadata": {},
     "output_type": "execute_result"
    }
   ],
   "source": [
    "x=sp.Symbol('x')\n",
    "y,z=sp.symbols('y,z')\n",
    "f = sp.Function('f')(x)\n",
    "diffeq=Eq(f.diff(x,x)-5*f,10)\n",
    "diffeq"
   ]
  },
  {
   "cell_type": "code",
   "execution_count": 4,
   "id": "e1e794b8",
   "metadata": {},
   "outputs": [
    {
     "data": {
      "image/png": "[encoded data removed]",
      "text/latex": [
       "$\\displaystyle f{\\left(x \\right)} = C_{1} e^{- \\sqrt{5} x} + C_{2} e^{\\sqrt{5} x} - 2$"
      ],
      "text/plain": [
       "           -√5⋅x       √5⋅x    \n",
       "f(x) = C₁⋅ℯ      + C₂⋅ℯ     - 2"
      ]
     },
     "execution_count": 4,
     "metadata": {},
     "output_type": "execute_result"
    }
   ],
   "source": [
    "dsolve(diffeq,f)"
   ]
  },
  {
   "cell_type": "code",
   "execution_count": 5,
   "id": "006143be",
   "metadata": {},
   "outputs": [
    {
     "data": {
      "image/png": "[encoded data removed]",
      "text/latex": [
       "$\\displaystyle x^{2} + y^{2} + z^{2}$"
      ],
      "text/plain": [
       " 2    2    2\n",
       "x  + y  + z "
      ]
     },
     "execution_count": 5,
     "metadata": {},
     "output_type": "execute_result"
    }
   ],
   "source": [
    "g = x**2 + y**2 +z**2\n",
    "g"
   ]
  },
  {
   "cell_type": "markdown",
   "id": "0d51ba73",
   "metadata": {},
   "source": [
    "### set an expression for the following"
   ]
  },
  {
   "cell_type": "markdown",
   "id": "941ed4f0",
   "metadata": {},
   "source": [
    "$$ x^2 + 2x - 5  $$"
   ]
  },
  {
   "cell_type": "code",
   "execution_count": 6,
   "id": "af56c59f",
   "metadata": {},
   "outputs": [
    {
     "data": {
      "image/png": "[encoded data removed]",
      "text/latex": [
       "$\\displaystyle x^{2} + 2 x - 5$"
      ],
      "text/plain": [
       " 2          \n",
       "x  + 2⋅x - 5"
      ]
     },
     "execution_count": 6,
     "metadata": {},
     "output_type": "execute_result"
    }
   ],
   "source": [
    "h =x**2+2*x-5\n",
    "h"
   ]
  },
  {
   "cell_type": "code",
   "execution_count": 7,
   "id": "b9cc6fa9",
   "metadata": {},
   "outputs": [
    {
     "data": {
      "image/png": "[encoded data removed]",
      "text/latex": [
       "$\\displaystyle 3$"
      ],
      "text/plain": [
       "3"
      ]
     },
     "execution_count": 7,
     "metadata": {},
     "output_type": "execute_result"
    }
   ],
   "source": [
    "h.subs(x,2)"
   ]
  },
  {
   "cell_type": "code",
   "execution_count": 8,
   "id": "dd7a261f",
   "metadata": {},
   "outputs": [
    {
     "data": {
      "image/png": "[encoded data removed]",
      "text/latex": [
       "$\\displaystyle y^{4} + 2 y^{2} - 5$"
      ],
      "text/plain": [
       " 4      2    \n",
       "y  + 2⋅y  - 5"
      ]
     },
     "execution_count": 8,
     "metadata": {},
     "output_type": "execute_result"
    }
   ],
   "source": [
    "h.subs(x,y**2)"
   ]
  },
  {
   "cell_type": "markdown",
   "id": "7d0a024e",
   "metadata": {},
   "source": [
    "### simplify the given expression"
   ]
  },
  {
   "cell_type": "markdown",
   "id": "b09c3a0b",
   "metadata": {},
   "source": [
    "$$ (x^2-x-6)/(x^2-3x) $$"
   ]
  },
  {
   "cell_type": "code",
   "execution_count": 9,
   "id": "b17dd8be",
   "metadata": {},
   "outputs": [
    {
     "data": {
      "image/png": "[encoded data removed]",
      "text/latex": [
       "$\\displaystyle \\frac{x^{2} - x - 6}{x^{2} - 3 x}$"
      ],
      "text/plain": [
       " 2        \n",
       "x  - x - 6\n",
       "──────────\n",
       "  2       \n",
       " x  - 3⋅x "
      ]
     },
     "execution_count": 9,
     "metadata": {},
     "output_type": "execute_result"
    }
   ],
   "source": [
    "f=(x**2-x-6)/(x**2-3*x)\n",
    "f"
   ]
  },
  {
   "cell_type": "code",
   "execution_count": 10,
   "id": "844136d0",
   "metadata": {
    "scrolled": true
   },
   "outputs": [
    {
     "data": {
      "image/png": "[encoded data removed]",
      "text/latex": [
       "$\\displaystyle \\frac{x + 2}{x}$"
      ],
      "text/plain": [
       "x + 2\n",
       "─────\n",
       "  x  "
      ]
     },
     "execution_count": 10,
     "metadata": {},
     "output_type": "execute_result"
    }
   ],
   "source": [
    "sp.simplify(f)"
   ]
  },
  {
   "cell_type": "code",
   "execution_count": 11,
   "id": "5a459544",
   "metadata": {},
   "outputs": [
    {
     "data": {
      "image/png": "[encoded data removed]",
      "text/latex": [
       "$\\displaystyle \\frac{x^{2}}{x^{2} - 3 x} - \\frac{x}{x^{2} - 3 x} - \\frac{6}{x^{2} - 3 x}$"
      ],
      "text/plain": [
       "    2                         \n",
       "   x          x          6    \n",
       "──────── - ──────── - ────────\n",
       " 2          2          2      \n",
       "x  - 3⋅x   x  - 3⋅x   x  - 3⋅x"
      ]
     },
     "execution_count": 11,
     "metadata": {},
     "output_type": "execute_result"
    }
   ],
   "source": [
    "sp.expand(f)"
   ]
  },
  {
   "cell_type": "markdown",
   "id": "fce3c5e3",
   "metadata": {},
   "source": [
    "### expand the following expression symbollicaly"
   ]
  },
  {
   "cell_type": "markdown",
   "id": "11b5bf25",
   "metadata": {},
   "source": [
    "$$ (x+1)^3(x-2)^2 $$"
   ]
  },
  {
   "cell_type": "code",
   "execution_count": 12,
   "id": "71dda86a",
   "metadata": {},
   "outputs": [
    {
     "data": {
      "image/png": "[encoded data removed]",
      "text/latex": [
       "$\\displaystyle \\left(x - 2\\right)^{2} \\left(x + 1\\right)^{3}$"
      ],
      "text/plain": [
       "       2        3\n",
       "(x - 2) ⋅(x + 1) "
      ]
     },
     "execution_count": 12,
     "metadata": {},
     "output_type": "execute_result"
    }
   ],
   "source": [
    "f=(x+1)**3*(x-2)**2\n",
    "f"
   ]
  },
  {
   "cell_type": "code",
   "execution_count": 13,
   "id": "570ed1aa",
   "metadata": {},
   "outputs": [
    {
     "data": {
      "image/png": "[encoded data removed]",
      "text/latex": [
       "$\\displaystyle x^{5} - x^{4} - 5 x^{3} + x^{2} + 8 x + 4$"
      ],
      "text/plain": [
       " 5    4      3    2          \n",
       "x  - x  - 5⋅x  + x  + 8⋅x + 4"
      ]
     },
     "execution_count": 13,
     "metadata": {},
     "output_type": "execute_result"
    }
   ],
   "source": [
    "sp.expand(f)"
   ]
  },
  {
   "cell_type": "markdown",
   "id": "c38c5f4a",
   "metadata": {},
   "source": [
    "### factor the following expression "
   ]
  },
  {
   "cell_type": "markdown",
   "id": "b94cee23",
   "metadata": {},
   "source": [
    "$$ 3x^4-36x^3+99x^2-6x-144=0 $$"
   ]
  },
  {
   "cell_type": "code",
   "execution_count": 14,
   "id": "b603c3b7",
   "metadata": {},
   "outputs": [
    {
     "data": {
      "image/png": "[encoded data removed]",
      "text/latex": [
       "$\\displaystyle \\left( 3 \\left(x - 8\\right) \\left(x - 3\\right) \\left(x - 2\\right) \\left(x + 1\\right), \\  \\int \\left(3 x^{4} - 36 x^{3} + 99 x^{2} - 6 x - 144\\right)\\, dx, \\  \\frac{3 x^{5}}{5} - 9 x^{4} + 33 x^{3} - 3 x^{2} - 144 x\\right)$"
      ],
      "text/plain": [
       "⎛                                   ⌠                                         \n",
       "⎜                                   ⎮ ⎛   4       3       2            ⎞     3\n",
       "⎜3⋅(x - 8)⋅(x - 3)⋅(x - 2)⋅(x + 1), ⎮ ⎝3⋅x  - 36⋅x  + 99⋅x  - 6⋅x - 144⎠ dx, ─\n",
       "⎝                                   ⌡                                         \n",
       "\n",
       "  5                              ⎞\n",
       "⋅x       4       3      2        ⎟\n",
       "─── - 9⋅x  + 33⋅x  - 3⋅x  - 144⋅x⎟\n",
       "5                                ⎠"
      ]
     },
     "execution_count": 14,
     "metadata": {},
     "output_type": "execute_result"
    }
   ],
   "source": [
    "f=3*x**4-36*x**3+99*x**2-6*x-144\n",
    "y=sp.factor(f)\n",
    "z=sp.Integral(f)\n",
    "k=sp.integrate(f)\n",
    "y,z,k"
   ]
  },
  {
   "cell_type": "markdown",
   "id": "d92d7956",
   "metadata": {},
   "source": [
    "$$-\\frac{\\hbar^2}{2m}\\nabla^2 \\psi + V\\psi = i\\hbar\\frac{\\partial\\psi}{\\partial t}$$"
   ]
  },
  {
   "cell_type": "markdown",
   "id": "d3e62460",
   "metadata": {},
   "source": [
    "### compute derivative"
   ]
  },
  {
   "cell_type": "markdown",
   "id": "76a9ed1b",
   "metadata": {},
   "source": [
    "$$\\frac{d}{dx}sinx$$"
   ]
  },
  {
   "cell_type": "markdown",
   "id": "6527f38a",
   "metadata": {},
   "source": [
    "$$\\frac{d}{dx}sin^2(x)e^2x $$"
   ]
  },
  {
   "cell_type": "code",
   "execution_count": 15,
   "id": "9ec62ed3",
   "metadata": {},
   "outputs": [
    {
     "data": {
      "image/png": "[encoded data removed]",
      "text/latex": [
       "$\\displaystyle \\left( e^{2 x} \\sin^{2}{\\left(x \\right)}, \\  2 e^{2 x} \\sin^{2}{\\left(x \\right)} + 2 e^{2 x} \\sin{\\left(x \\right)} \\cos{\\left(x \\right)}, \\  265.596339800896, \\  \\cos{\\left(x \\right)}\\right)$"
      ],
      "text/plain": [
       "⎛ 2⋅x    2        2⋅x    2         2⋅x                                        \n",
       "⎝ℯ   ⋅sin (x), 2⋅ℯ   ⋅sin (x) + 2⋅ℯ   ⋅sin(x)⋅cos(x), 265.596339800896, cos(x)\n",
       "\n",
       "⎞\n",
       "⎠"
      ]
     },
     "execution_count": 15,
     "metadata": {},
     "output_type": "execute_result"
    }
   ],
   "source": [
    "y1=sp.sin(x)\n",
    "y2=diff(y1)\n",
    "y=(sp.sin(x))**2*sp.exp(2*x)\n",
    "z=diff(y)\n",
    "k=z.subs(x,3.3)\n",
    "y,z,k,y2"
   ]
  },
  {
   "cell_type": "markdown",
   "id": "7005f816",
   "metadata": {},
   "source": [
    "### integral"
   ]
  },
  {
   "cell_type": "markdown",
   "id": "f1374baf",
   "metadata": {},
   "source": [
    "$$\\int\\limits_0^5 x^2sinx^2 dx$$"
   ]
  },
  {
   "cell_type": "code",
   "execution_count": 16,
   "id": "683fc5e6",
   "metadata": {},
   "outputs": [
    {
     "data": {
      "image/png": "[encoded data removed]",
      "text/latex": [
       "$\\displaystyle \\left( - \\frac{25 \\cos{\\left(25 \\right)} \\Gamma\\left(\\frac{5}{4}\\right)}{8 \\Gamma\\left(\\frac{9}{4}\\right)} + \\frac{5 \\sqrt{2} \\sqrt{\\pi} C\\left(\\frac{5 \\sqrt{2}}{\\sqrt{\\pi}}\\right) \\Gamma\\left(\\frac{5}{4}\\right)}{16 \\Gamma\\left(\\frac{9}{4}\\right)}, \\  \\int\\limits_{0}^{5} x^{2} \\sin{\\left(x^{2} \\right)}\\, dx\\right)$"
      ],
      "text/plain": [
       "⎛                               ⎛5⋅√2⎞         5              ⎞\n",
       "⎜                      5⋅√2⋅√π⋅C⎜────⎟⋅Γ(5/4)  ⌠              ⎟\n",
       "⎜  25⋅cos(25)⋅Γ(5/4)            ⎝ √π ⎠         ⎮  2    ⎛ 2⎞   ⎟\n",
       "⎜- ───────────────── + ──────────────────────, ⎮ x ⋅sin⎝x ⎠ dx⎟\n",
       "⎜       8⋅Γ(9/4)             16⋅Γ(9/4)         ⌡              ⎟\n",
       "⎝                                              0              ⎠"
      ]
     },
     "execution_count": 16,
     "metadata": {},
     "output_type": "execute_result"
    }
   ],
   "source": [
    "y=x**2*sp.sin(x**2)\n",
    "z=sp.integrate(y,(x,0,5)) ## gives symbolic representation \n",
    "k=sp.Integral(y,(x,0,5))\n",
    "z,k"
   ]
  },
  {
   "cell_type": "code",
   "execution_count": 17,
   "id": "c06e0473",
   "metadata": {},
   "outputs": [
    {
     "data": {
      "image/png": "[encoded data removed]",
      "text/latex": [
       "$\\displaystyle -2.17227364646045$"
      ],
      "text/plain": [
       "-2.17227364646045"
      ]
     },
     "execution_count": 17,
     "metadata": {},
     "output_type": "execute_result"
    }
   ],
   "source": [
    "z.evalf()"
   ]
  },
  {
   "cell_type": "markdown",
   "id": "21681d11",
   "metadata": {},
   "source": [
    "### solve for the roots of the following equation"
   ]
  },
  {
   "cell_type": "markdown",
   "id": "a6672f89",
   "metadata": {},
   "source": [
    "$$ x^3+15x^2=3x-10 $$"
   ]
  },
  {
   "cell_type": "code",
   "execution_count": 18,
   "id": "0479d013",
   "metadata": {
    "scrolled": true
   },
   "outputs": [
    {
     "data": {
      "image/png": "[encoded data removed]",
      "text/latex": [
       "$\\displaystyle \\left[ -5 - \\frac{78}{\\left(- \\frac{1}{2} - \\frac{\\sqrt{3} i}{2}\\right) \\sqrt[3]{\\frac{6885}{2} + \\frac{27 \\sqrt{5279} i}{2}}} - \\frac{\\left(- \\frac{1}{2} - \\frac{\\sqrt{3} i}{2}\\right) \\sqrt[3]{\\frac{6885}{2} + \\frac{27 \\sqrt{5279} i}{2}}}{3}, \\  -5 - \\frac{\\left(- \\frac{1}{2} + \\frac{\\sqrt{3} i}{2}\\right) \\sqrt[3]{\\frac{6885}{2} + \\frac{27 \\sqrt{5279} i}{2}}}{3} - \\frac{78}{\\left(- \\frac{1}{2} + \\frac{\\sqrt{3} i}{2}\\right) \\sqrt[3]{\\frac{6885}{2} + \\frac{27 \\sqrt{5279} i}{2}}}, \\  -5 - \\frac{\\sqrt[3]{\\frac{6885}{2} + \\frac{27 \\sqrt{5279} i}{2}}}{3} - \\frac{78}{\\sqrt[3]{\\frac{6885}{2} + \\frac{27 \\sqrt{5279} i}{2}}}\\right]$"
      ],
      "text/plain": [
       "⎡                                                             ________________\n",
       "⎢                                            ⎛  1   √3⋅ⅈ⎞    ╱ 6885   27⋅√5279\n",
       "⎢                                            ⎜- ─ - ────⎟⋅3 ╱  ──── + ────────\n",
       "⎢                      78                    ⎝  2    2  ⎠ ╲╱    2         2   \n",
       "⎢-5 - ──────────────────────────────────── - ─────────────────────────────────\n",
       "⎢                      ___________________                    3               \n",
       "⎢     ⎛  1   √3⋅ⅈ⎞    ╱ 6885   27⋅√5279⋅ⅈ                                     \n",
       "⎢     ⎜- ─ - ────⎟⋅3 ╱  ──── + ──────────                                     \n",
       "⎣     ⎝  2    2  ⎠ ╲╱    2         2                                          \n",
       "\n",
       "___                        ___________________                                \n",
       "⋅ⅈ        ⎛  1   √3⋅ⅈ⎞    ╱ 6885   27⋅√5279⋅ⅈ                                 \n",
       "──        ⎜- ─ + ────⎟⋅3 ╱  ──── + ──────────                                 \n",
       "          ⎝  2    2  ⎠ ╲╱    2         2                          78          \n",
       "───, -5 - ──────────────────────────────────── - ─────────────────────────────\n",
       "                           3                                      ____________\n",
       "                                                 ⎛  1   √3⋅ⅈ⎞    ╱ 6885   27⋅√\n",
       "                                                 ⎜- ─ + ────⎟⋅3 ╱  ──── + ────\n",
       "                                                 ⎝  2    2  ⎠ ╲╱    2         \n",
       "\n",
       "                  ___________________                          ⎤\n",
       "                 ╱ 6885   27⋅√5279⋅ⅈ                           ⎥\n",
       "              3 ╱  ──── + ──────────                           ⎥\n",
       "              ╲╱    2         2                    78          ⎥\n",
       "───────, -5 - ─────────────────────── - ───────────────────────⎥\n",
       "_______                  3                  ___________________⎥\n",
       "5279⋅ⅈ                                     ╱ 6885   27⋅√5279⋅ⅈ ⎥\n",
       "──────                                  3 ╱  ──── + ────────── ⎥\n",
       "2                                       ╲╱    2         2      ⎦"
      ]
     },
     "execution_count": 18,
     "metadata": {},
     "output_type": "execute_result"
    }
   ],
   "source": [
    "y=x**3 +15*x**2-3*x-10\n",
    "solve(y)"
   ]
  },
  {
   "cell_type": "code",
   "execution_count": 19,
   "id": "79b41a1b",
   "metadata": {},
   "outputs": [
    {
     "data": {
      "image/png": "[encoded data removed]",
      "text/latex": [
       "$\\displaystyle \\left[ -5 - \\frac{78}{\\left(- \\frac{1}{2} - \\frac{\\sqrt{3} i}{2}\\right) \\sqrt[3]{\\frac{27 \\sqrt{5321}}{2} + \\frac{7425}{2}}} - \\frac{\\left(- \\frac{1}{2} - \\frac{\\sqrt{3} i}{2}\\right) \\sqrt[3]{\\frac{27 \\sqrt{5321}}{2} + \\frac{7425}{2}}}{3}, \\  -5 - \\frac{\\left(- \\frac{1}{2} + \\frac{\\sqrt{3} i}{2}\\right) \\sqrt[3]{\\frac{27 \\sqrt{5321}}{2} + \\frac{7425}{2}}}{3} - \\frac{78}{\\left(- \\frac{1}{2} + \\frac{\\sqrt{3} i}{2}\\right) \\sqrt[3]{\\frac{27 \\sqrt{5321}}{2} + \\frac{7425}{2}}}, \\  - \\frac{\\sqrt[3]{\\frac{27 \\sqrt{5321}}{2} + \\frac{7425}{2}}}{3} - 5 - \\frac{78}{\\sqrt[3]{\\frac{27 \\sqrt{5321}}{2} + \\frac{7425}{2}}}\\right]$"
      ],
      "text/plain": [
       "⎡                                                           _________________ \n",
       "⎢                                          ⎛  1   √3⋅ⅈ⎞    ╱ 27⋅√5321   7425  \n",
       "⎢                                          ⎜- ─ - ────⎟⋅3 ╱  ──────── + ────  \n",
       "⎢                     78                   ⎝  2    2  ⎠ ╲╱      2        2    \n",
       "⎢-5 - ────────────────────────────────── - ──────────────────────────────────,\n",
       "⎢                      _________________                   3                  \n",
       "⎢     ⎛  1   √3⋅ⅈ⎞    ╱ 27⋅√5321   7425                                       \n",
       "⎢     ⎜- ─ - ────⎟⋅3 ╱  ──────── + ────                                       \n",
       "⎣     ⎝  2    2  ⎠ ╲╱      2        2                                         \n",
       "\n",
       "                       _________________                                      \n",
       "      ⎛  1   √3⋅ⅈ⎞    ╱ 27⋅√5321   7425                                       \n",
       "      ⎜- ─ + ────⎟⋅3 ╱  ──────── + ────                                       \n",
       "      ⎝  2    2  ⎠ ╲╱      2        2                      78                 \n",
       " -5 - ────────────────────────────────── - ──────────────────────────────────,\n",
       "                      3                                     _________________ \n",
       "                                           ⎛  1   √3⋅ⅈ⎞    ╱ 27⋅√5321   7425  \n",
       "                                           ⎜- ─ + ────⎟⋅3 ╱  ──────── + ────  \n",
       "                                           ⎝  2    2  ⎠ ╲╱      2        2    \n",
       "\n",
       "       _________________                            ⎤\n",
       "      ╱ 27⋅√5321   7425                             ⎥\n",
       "   3 ╱  ──────── + ────                             ⎥\n",
       "   ╲╱      2        2                    78         ⎥\n",
       " - ───────────────────── - 5 - ─────────────────────⎥\n",
       "             3                     _________________⎥\n",
       "                                  ╱ 27⋅√5321   7425 ⎥\n",
       "                               3 ╱  ──────── + ──── ⎥\n",
       "                               ╲╱      2        2   ⎦"
      ]
     },
     "execution_count": 19,
     "metadata": {},
     "output_type": "execute_result"
    }
   ],
   "source": [
    "y=sp.Eq(x**3 +15*x**2,3*x-10)\n",
    "z=sp.solve(y,x)\n",
    "z"
   ]
  },
  {
   "cell_type": "code",
   "execution_count": 20,
   "id": "526b6917",
   "metadata": {},
   "outputs": [
    {
     "name": "stdout",
     "output_type": "stream",
     "text": [
      "0.119953874110975 + 0.801113611837881*I\n",
      "0.119953874110975 - 0.801113611837881*I\n",
      "-15.2399077482219\n"
     ]
    }
   ],
   "source": [
    "print(z[0].evalf())## index number 0 root is simplified\n",
    "print(z[1].evalf())\n",
    "print(z[2].evalf())"
   ]
  },
  {
   "cell_type": "code",
   "execution_count": 21,
   "id": "43c2e6dc",
   "metadata": {},
   "outputs": [
    {
     "name": "stdout",
     "output_type": "stream",
     "text": [
      "0.119953874110975 + 0.801113611837881*I\n",
      "0.119953874110975 - 0.801113611837881*I\n",
      "-15.2399077482219\n"
     ]
    }
   ],
   "source": [
    "for w in z:\n",
    "    print(w.evalf())## all roots are simplified"
   ]
  },
  {
   "cell_type": "markdown",
   "id": "76f4459f",
   "metadata": {},
   "source": [
    "### solving system of linear equation"
   ]
  },
  {
   "cell_type": "markdown",
   "id": "01440af6",
   "metadata": {},
   "source": [
    "$$x+y+z=0,  2x-y-z=10,  y+2z=5$$"
   ]
  },
  {
   "cell_type": "code",
   "execution_count": 22,
   "id": "5e8e2d3d",
   "metadata": {},
   "outputs": [
    {
     "data": {
      "image/png": "[encoded data removed]",
      "text/latex": [
       "$\\displaystyle \\left\\{ x : \\frac{10}{3}, \\  y : - \\frac{35}{3}, \\  z : \\frac{25}{3}\\right\\}$"
      ],
      "text/plain": [
       "{x: 10/3, y: -35/3, z: 25/3}"
      ]
     },
     "execution_count": 22,
     "metadata": {},
     "output_type": "execute_result"
    }
   ],
   "source": [
    "x,y,z=sp.symbols('x,y,z')\n",
    "e1=sp.Eq(x+y+z,0)\n",
    "e2=sp.Eq(2*x-y-z,10)\n",
    "e3=sp.Eq(y+2*z,5)\n",
    "k=sp.solve([e1,e2,e3],[x,y,z])\n",
    "k"
   ]
  },
  {
   "cell_type": "markdown",
   "id": "4043cf7c",
   "metadata": {},
   "source": [
    "### another way to solve the system of linear equation"
   ]
  },
  {
   "cell_type": "code",
   "execution_count": 26,
   "id": "7cc8369f",
   "metadata": {},
   "outputs": [
    {
     "name": "stdout",
     "output_type": "stream",
     "text": [
      "[  3.33333333 -11.66666667   8.33333333]\n"
     ]
    }
   ],
   "source": [
    "from scipy.optimize import fsolve\n",
    "def f(w):\n",
    "    x=w[0]\n",
    "    y=w[1]\n",
    "    z=w[2]\n",
    "    f1=x+y+z-0    ## define the function\n",
    "    f2=2*x-y-z-10\n",
    "    f3=y+2*z-5\n",
    "    return[f1,f2,f3]\n",
    "result=fsolve(f,[0,0,0])    ### initial guess 0,0,0\n",
    "print(result)"
   ]
  },
  {
   "cell_type": "code",
   "execution_count": null,
   "id": "20c96894",
   "metadata": {},
   "outputs": [],
   "source": []
  }
 ],
 "metadata": {
  "kernelspec": {
   "display_name": "Python 3 (ipykernel)",
   "language": "python",
   "name": "python3"
  },
  "language_info": {
   "codemirror_mode": {
    "name": "ipython",
    "version": 3
   },
   "file_extension": ".py",
   "mimetype": "text/x-python",
   "name": "python",
   "nbconvert_exporter": "python",
   "pygments_lexer": "ipython3",
   "version": "3.9.7"
  }
 },
 "nbformat": 4,
 "nbformat_minor": 5
}
